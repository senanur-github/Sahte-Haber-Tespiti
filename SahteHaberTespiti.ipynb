{
 "cells": [
  {
   "cell_type": "markdown",
   "metadata": {},
   "source": [
    "<b>Adı, Soyadı =</b>Abdullah Karakelle, Raşit Muhammed Pehlivan, Sena Nur Özdemir <br/>\n",
    "<b>Numarası =</b>21040301025, 21040301015, 21040301013<br/>\n",
    "<b>Ders =</b> Derin Öğrenme<br/>\n",
    "<b>Proje =</b> Sahte Haber Tespiti Final Projesi<br/>\n",
    "<b>Öğretim Görevlisi =</b> Cevat Rahebi<br/>\n",
    "<b>Üniversitesi =</b> İstanbul Topkapı Üniversitesi<br/>\n",
    "<b>Fakültesi =</b> Mühendislik Fakültesi<br/>\n",
    "<b>Bölümü =</b> Yazılım Mühendisliği<br/>"
   ]
  },
  {
   "cell_type": "code",
   "execution_count": 1,
   "metadata": {},
   "outputs": [],
   "source": [
    "import pandas as pd\n",
    "import numpy as np\n",
    "import seaborn as sns\n",
    "import matplotlib.pyplot as plt\n",
    "import re\n",
    "import string\n",
    "from sklearn.model_selection import train_test_split\n",
    "from sklearn.metrics import accuracy_score\n",
    "from sklearn.metrics import classification_report\n",
    "from sklearn.feature_extraction.text import TfidfVectorizer\n",
    "from sklearn.linear_model import LogisticRegression\n",
    "from sklearn.naive_bayes import MultinomialNB\n",
    "from sklearn.svm import SVC\n",
    "from keras.models import Sequential\n",
    "from keras.layers import LSTM, Dense, Embedding, Bidirectional\n",
    "from keras.preprocessing.text import Tokenizer\n",
    "from tensorflow.keras.preprocessing.sequence import pad_sequences\n",
    "from sklearn.metrics import confusion_matrix, classification_report, ConfusionMatrixDisplay"
   ]
  },
  {
   "cell_type": "code",
   "execution_count": 2,
   "metadata": {},
   "outputs": [],
   "source": [
    "fake_file_path = r\"C:\\Users\\senan\\OneDrive\\Masaüstü\\derinFinalNew\\Fake.csv\"\n",
    "true_file_path = r\"C:\\Users\\senan\\OneDrive\\Masaüstü\\derinFinalNew\\True.csv\"\n",
    "\n",
    "df_fake = pd.read_csv(fake_file_path)\n",
    "df_true = pd.read_csv(true_file_path)\n",
    "\n",
    "df_fake[\"class\"] = 0\n",
    "df_true[\"class\"] = 1"
   ]
  },
  {
   "cell_type": "code",
   "execution_count": 3,
   "metadata": {},
   "outputs": [
    {
     "data": {
      "text/plain": [
       "((23481, 5), (21417, 5))"
      ]
     },
     "execution_count": 3,
     "metadata": {},
     "output_type": "execute_result"
    }
   ],
   "source": [
    "df_fake.shape, df_true.shape"
   ]
  },
  {
   "cell_type": "code",
   "execution_count": 4,
   "metadata": {},
   "outputs": [
    {
     "data": {
      "text/html": [
       "<div>\n",
       "<style scoped>\n",
       "    .dataframe tbody tr th:only-of-type {\n",
       "        vertical-align: middle;\n",
       "    }\n",
       "\n",
       "    .dataframe tbody tr th {\n",
       "        vertical-align: top;\n",
       "    }\n",
       "\n",
       "    .dataframe thead th {\n",
       "        text-align: right;\n",
       "    }\n",
       "</style>\n",
       "<table border=\"1\" class=\"dataframe\">\n",
       "  <thead>\n",
       "    <tr style=\"text-align: right;\">\n",
       "      <th></th>\n",
       "      <th>text</th>\n",
       "      <th>class</th>\n",
       "    </tr>\n",
       "  </thead>\n",
       "  <tbody>\n",
       "    <tr>\n",
       "      <th>0</th>\n",
       "      <td>Donald Trump just couldn t wish all Americans ...</td>\n",
       "      <td>0</td>\n",
       "    </tr>\n",
       "    <tr>\n",
       "      <th>1</th>\n",
       "      <td>House Intelligence Committee Chairman Devin Nu...</td>\n",
       "      <td>0</td>\n",
       "    </tr>\n",
       "    <tr>\n",
       "      <th>2</th>\n",
       "      <td>On Friday, it was revealed that former Milwauk...</td>\n",
       "      <td>0</td>\n",
       "    </tr>\n",
       "    <tr>\n",
       "      <th>3</th>\n",
       "      <td>On Christmas day, Donald Trump announced that ...</td>\n",
       "      <td>0</td>\n",
       "    </tr>\n",
       "    <tr>\n",
       "      <th>4</th>\n",
       "      <td>Pope Francis used his annual Christmas Day mes...</td>\n",
       "      <td>0</td>\n",
       "    </tr>\n",
       "  </tbody>\n",
       "</table>\n",
       "</div>"
      ],
      "text/plain": [
       "                                                text  class\n",
       "0  Donald Trump just couldn t wish all Americans ...      0\n",
       "1  House Intelligence Committee Chairman Devin Nu...      0\n",
       "2  On Friday, it was revealed that former Milwauk...      0\n",
       "3  On Christmas day, Donald Trump announced that ...      0\n",
       "4  Pope Francis used his annual Christmas Day mes...      0"
      ]
     },
     "execution_count": 4,
     "metadata": {},
     "output_type": "execute_result"
    }
   ],
   "source": [
    "df_fake = df_fake.drop([\"title\", \"subject\",\"date\"], axis = 1)\n",
    "df_fake.head()"
   ]
  },
  {
   "cell_type": "code",
   "execution_count": 5,
   "metadata": {},
   "outputs": [
    {
     "data": {
      "text/html": [
       "<div>\n",
       "<style scoped>\n",
       "    .dataframe tbody tr th:only-of-type {\n",
       "        vertical-align: middle;\n",
       "    }\n",
       "\n",
       "    .dataframe tbody tr th {\n",
       "        vertical-align: top;\n",
       "    }\n",
       "\n",
       "    .dataframe thead th {\n",
       "        text-align: right;\n",
       "    }\n",
       "</style>\n",
       "<table border=\"1\" class=\"dataframe\">\n",
       "  <thead>\n",
       "    <tr style=\"text-align: right;\">\n",
       "      <th></th>\n",
       "      <th>text</th>\n",
       "      <th>class</th>\n",
       "    </tr>\n",
       "  </thead>\n",
       "  <tbody>\n",
       "    <tr>\n",
       "      <th>0</th>\n",
       "      <td>WASHINGTON (Reuters) - The head of a conservat...</td>\n",
       "      <td>1</td>\n",
       "    </tr>\n",
       "    <tr>\n",
       "      <th>1</th>\n",
       "      <td>WASHINGTON (Reuters) - Transgender people will...</td>\n",
       "      <td>1</td>\n",
       "    </tr>\n",
       "    <tr>\n",
       "      <th>2</th>\n",
       "      <td>WASHINGTON (Reuters) - The special counsel inv...</td>\n",
       "      <td>1</td>\n",
       "    </tr>\n",
       "    <tr>\n",
       "      <th>3</th>\n",
       "      <td>WASHINGTON (Reuters) - Trump campaign adviser ...</td>\n",
       "      <td>1</td>\n",
       "    </tr>\n",
       "    <tr>\n",
       "      <th>4</th>\n",
       "      <td>SEATTLE/WASHINGTON (Reuters) - President Donal...</td>\n",
       "      <td>1</td>\n",
       "    </tr>\n",
       "  </tbody>\n",
       "</table>\n",
       "</div>"
      ],
      "text/plain": [
       "                                                text  class\n",
       "0  WASHINGTON (Reuters) - The head of a conservat...      1\n",
       "1  WASHINGTON (Reuters) - Transgender people will...      1\n",
       "2  WASHINGTON (Reuters) - The special counsel inv...      1\n",
       "3  WASHINGTON (Reuters) - Trump campaign adviser ...      1\n",
       "4  SEATTLE/WASHINGTON (Reuters) - President Donal...      1"
      ]
     },
     "execution_count": 5,
     "metadata": {},
     "output_type": "execute_result"
    }
   ],
   "source": [
    "df_true = df_true.drop([\"title\", \"subject\",\"date\"], axis = 1)\n",
    "df_true.head()"
   ]
  },
  {
   "cell_type": "code",
   "execution_count": 6,
   "metadata": {},
   "outputs": [
    {
     "data": {
      "text/plain": [
       "((23481, 2), (21417, 2))"
      ]
     },
     "execution_count": 6,
     "metadata": {},
     "output_type": "execute_result"
    }
   ],
   "source": [
    "df_fake.shape, df_true.shape"
   ]
  },
  {
   "cell_type": "code",
   "execution_count": 7,
   "metadata": {},
   "outputs": [],
   "source": [
    "df = pd.concat([df_fake, df_true], axis =0 )"
   ]
  },
  {
   "cell_type": "code",
   "execution_count": 8,
   "metadata": {},
   "outputs": [
    {
     "data": {
      "text/plain": [
       "text     0\n",
       "class    0\n",
       "dtype: int64"
      ]
     },
     "execution_count": 8,
     "metadata": {},
     "output_type": "execute_result"
    }
   ],
   "source": [
    "df.isnull().sum()"
   ]
  },
  {
   "cell_type": "code",
   "execution_count": 9,
   "metadata": {},
   "outputs": [],
   "source": [
    "df = df.sample(frac = 1)\n",
    "df.reset_index(inplace = True)\n",
    "df.drop([\"index\"], axis = 1, inplace = True)"
   ]
  },
  {
   "cell_type": "code",
   "execution_count": 10,
   "metadata": {},
   "outputs": [
    {
     "data": {
      "text/html": [
       "<div>\n",
       "<style scoped>\n",
       "    .dataframe tbody tr th:only-of-type {\n",
       "        vertical-align: middle;\n",
       "    }\n",
       "\n",
       "    .dataframe tbody tr th {\n",
       "        vertical-align: top;\n",
       "    }\n",
       "\n",
       "    .dataframe thead th {\n",
       "        text-align: right;\n",
       "    }\n",
       "</style>\n",
       "<table border=\"1\" class=\"dataframe\">\n",
       "  <thead>\n",
       "    <tr style=\"text-align: right;\">\n",
       "      <th></th>\n",
       "      <th>text</th>\n",
       "      <th>class</th>\n",
       "    </tr>\n",
       "  </thead>\n",
       "  <tbody>\n",
       "    <tr>\n",
       "      <th>0</th>\n",
       "      <td>JERUSALEM (Reuters) - Israeli Prime Minister B...</td>\n",
       "      <td>1</td>\n",
       "    </tr>\n",
       "    <tr>\n",
       "      <th>1</th>\n",
       "      <td>WASHINGTON (Reuters) - Some U.S. intelligence ...</td>\n",
       "      <td>1</td>\n",
       "    </tr>\n",
       "    <tr>\n",
       "      <th>2</th>\n",
       "      <td>The electoral map is being redrawn in Hillary ...</td>\n",
       "      <td>0</td>\n",
       "    </tr>\n",
       "    <tr>\n",
       "      <th>3</th>\n",
       "      <td>Federal prosecutors warned U.S. District Judge...</td>\n",
       "      <td>0</td>\n",
       "    </tr>\n",
       "    <tr>\n",
       "      <th>4</th>\n",
       "      <td>NEW YORK (Reuters) - Some rabbis and Jewish st...</td>\n",
       "      <td>1</td>\n",
       "    </tr>\n",
       "  </tbody>\n",
       "</table>\n",
       "</div>"
      ],
      "text/plain": [
       "                                                text  class\n",
       "0  JERUSALEM (Reuters) - Israeli Prime Minister B...      1\n",
       "1  WASHINGTON (Reuters) - Some U.S. intelligence ...      1\n",
       "2  The electoral map is being redrawn in Hillary ...      0\n",
       "3  Federal prosecutors warned U.S. District Judge...      0\n",
       "4  NEW YORK (Reuters) - Some rabbis and Jewish st...      1"
      ]
     },
     "execution_count": 10,
     "metadata": {},
     "output_type": "execute_result"
    }
   ],
   "source": [
    "df.head()"
   ]
  },
  {
   "cell_type": "code",
   "execution_count": 11,
   "metadata": {},
   "outputs": [],
   "source": [
    "df_fake_manual_test = df_fake.tail(20)\n",
    "for i in range(23480,23460,-1):\n",
    "    df_fake.drop([i], axis = 0, inplace = True)\n",
    "    \n",
    "    \n",
    "df_true_manual_test = df_true.tail(20)\n",
    "for i in range(21416,21396,-1):\n",
    "    df_true.drop([i], axis = 0, inplace = True)"
   ]
  },
  {
   "cell_type": "code",
   "execution_count": 12,
   "metadata": {},
   "outputs": [
    {
     "data": {
      "text/html": [
       "<div>\n",
       "<style scoped>\n",
       "    .dataframe tbody tr th:only-of-type {\n",
       "        vertical-align: middle;\n",
       "    }\n",
       "\n",
       "    .dataframe tbody tr th {\n",
       "        vertical-align: top;\n",
       "    }\n",
       "\n",
       "    .dataframe thead th {\n",
       "        text-align: right;\n",
       "    }\n",
       "</style>\n",
       "<table border=\"1\" class=\"dataframe\">\n",
       "  <thead>\n",
       "    <tr style=\"text-align: right;\">\n",
       "      <th></th>\n",
       "      <th>text</th>\n",
       "      <th>class</th>\n",
       "    </tr>\n",
       "  </thead>\n",
       "  <tbody>\n",
       "    <tr>\n",
       "      <th>23461</th>\n",
       "      <td>KILLED: Rancher and protest spokesman Robert ...</td>\n",
       "      <td>0</td>\n",
       "    </tr>\n",
       "    <tr>\n",
       "      <th>23462</th>\n",
       "      <td>Tune in to the Alternate Current Radio Network...</td>\n",
       "      <td>0</td>\n",
       "    </tr>\n",
       "    <tr>\n",
       "      <th>23463</th>\n",
       "      <td>Patrick Henningsen 21st Century Wire UPDATE: 1...</td>\n",
       "      <td>0</td>\n",
       "    </tr>\n",
       "    <tr>\n",
       "      <th>23464</th>\n",
       "      <td>Episode #119 of SUNDAY WIRE SHOW finally resum...</td>\n",
       "      <td>0</td>\n",
       "    </tr>\n",
       "    <tr>\n",
       "      <th>23465</th>\n",
       "      <td>21st Century Wire says Various parties in Wash...</td>\n",
       "      <td>0</td>\n",
       "    </tr>\n",
       "    <tr>\n",
       "      <th>23466</th>\n",
       "      <td>21st Century Wire says For those who still ref...</td>\n",
       "      <td>0</td>\n",
       "    </tr>\n",
       "    <tr>\n",
       "      <th>23467</th>\n",
       "      <td>21st Century Wire says So far, after nearly 20...</td>\n",
       "      <td>0</td>\n",
       "    </tr>\n",
       "    <tr>\n",
       "      <th>23468</th>\n",
       "      <td>21st Century Wire says If you ve been followin...</td>\n",
       "      <td>0</td>\n",
       "    </tr>\n",
       "    <tr>\n",
       "      <th>23469</th>\n",
       "      <td>Tune in to the Alternate Current Radio Network...</td>\n",
       "      <td>0</td>\n",
       "    </tr>\n",
       "    <tr>\n",
       "      <th>23470</th>\n",
       "      <td>RTOne of the most visible members of the armed...</td>\n",
       "      <td>0</td>\n",
       "    </tr>\n",
       "  </tbody>\n",
       "</table>\n",
       "</div>"
      ],
      "text/plain": [
       "                                                    text  class\n",
       "23461   KILLED: Rancher and protest spokesman Robert ...      0\n",
       "23462  Tune in to the Alternate Current Radio Network...      0\n",
       "23463  Patrick Henningsen 21st Century Wire UPDATE: 1...      0\n",
       "23464  Episode #119 of SUNDAY WIRE SHOW finally resum...      0\n",
       "23465  21st Century Wire says Various parties in Wash...      0\n",
       "23466  21st Century Wire says For those who still ref...      0\n",
       "23467  21st Century Wire says So far, after nearly 20...      0\n",
       "23468  21st Century Wire says If you ve been followin...      0\n",
       "23469  Tune in to the Alternate Current Radio Network...      0\n",
       "23470  RTOne of the most visible members of the armed...      0"
      ]
     },
     "execution_count": 12,
     "metadata": {},
     "output_type": "execute_result"
    }
   ],
   "source": [
    "df_fake_manual_test.head(10)"
   ]
  },
  {
   "cell_type": "code",
   "execution_count": 13,
   "metadata": {},
   "outputs": [
    {
     "data": {
      "text/html": [
       "<div>\n",
       "<style scoped>\n",
       "    .dataframe tbody tr th:only-of-type {\n",
       "        vertical-align: middle;\n",
       "    }\n",
       "\n",
       "    .dataframe tbody tr th {\n",
       "        vertical-align: top;\n",
       "    }\n",
       "\n",
       "    .dataframe thead th {\n",
       "        text-align: right;\n",
       "    }\n",
       "</style>\n",
       "<table border=\"1\" class=\"dataframe\">\n",
       "  <thead>\n",
       "    <tr style=\"text-align: right;\">\n",
       "      <th></th>\n",
       "      <th>text</th>\n",
       "      <th>class</th>\n",
       "    </tr>\n",
       "  </thead>\n",
       "  <tbody>\n",
       "    <tr>\n",
       "      <th>21397</th>\n",
       "      <td>BERLIN (Reuters) - The leader of Germany s Soc...</td>\n",
       "      <td>1</td>\n",
       "    </tr>\n",
       "    <tr>\n",
       "      <th>21398</th>\n",
       "      <td>SHANGHAI (Reuters) - An old review of an acade...</td>\n",
       "      <td>1</td>\n",
       "    </tr>\n",
       "    <tr>\n",
       "      <th>21399</th>\n",
       "      <td>DUBAI (Reuters) - A 14-year-old boy who was de...</td>\n",
       "      <td>1</td>\n",
       "    </tr>\n",
       "    <tr>\n",
       "      <th>21400</th>\n",
       "      <td>LONDON (Reuters) - Abdul Daoud spilt most of t...</td>\n",
       "      <td>1</td>\n",
       "    </tr>\n",
       "    <tr>\n",
       "      <th>21401</th>\n",
       "      <td>BUENOS AIRES (Reuters) - Argentina s main labo...</td>\n",
       "      <td>1</td>\n",
       "    </tr>\n",
       "    <tr>\n",
       "      <th>21402</th>\n",
       "      <td>ON BOARD A U.S. MILITARY AIRCRAFT (Reuters) - ...</td>\n",
       "      <td>1</td>\n",
       "    </tr>\n",
       "    <tr>\n",
       "      <th>21403</th>\n",
       "      <td>WASHINGTON (Reuters) - The United States sugge...</td>\n",
       "      <td>1</td>\n",
       "    </tr>\n",
       "    <tr>\n",
       "      <th>21404</th>\n",
       "      <td>WASHINGTON (Reuters) - The United States has d...</td>\n",
       "      <td>1</td>\n",
       "    </tr>\n",
       "    <tr>\n",
       "      <th>21405</th>\n",
       "      <td>ISLAMABAD (Reuters) - Outlining a new strategy...</td>\n",
       "      <td>1</td>\n",
       "    </tr>\n",
       "    <tr>\n",
       "      <th>21406</th>\n",
       "      <td>GENEVA (Reuters) - North Korea and the United ...</td>\n",
       "      <td>1</td>\n",
       "    </tr>\n",
       "  </tbody>\n",
       "</table>\n",
       "</div>"
      ],
      "text/plain": [
       "                                                    text  class\n",
       "21397  BERLIN (Reuters) - The leader of Germany s Soc...      1\n",
       "21398  SHANGHAI (Reuters) - An old review of an acade...      1\n",
       "21399  DUBAI (Reuters) - A 14-year-old boy who was de...      1\n",
       "21400  LONDON (Reuters) - Abdul Daoud spilt most of t...      1\n",
       "21401  BUENOS AIRES (Reuters) - Argentina s main labo...      1\n",
       "21402  ON BOARD A U.S. MILITARY AIRCRAFT (Reuters) - ...      1\n",
       "21403  WASHINGTON (Reuters) - The United States sugge...      1\n",
       "21404  WASHINGTON (Reuters) - The United States has d...      1\n",
       "21405  ISLAMABAD (Reuters) - Outlining a new strategy...      1\n",
       "21406  GENEVA (Reuters) - North Korea and the United ...      1"
      ]
     },
     "execution_count": 13,
     "metadata": {},
     "output_type": "execute_result"
    }
   ],
   "source": [
    "df_true_manual_test.head(10)"
   ]
  },
  {
   "cell_type": "code",
   "execution_count": 14,
   "metadata": {},
   "outputs": [],
   "source": [
    "df_manual_test = pd.concat([df_fake_manual_test,df_true_manual_test], axis = 0)\n",
    "df_manual_test.to_csv(\"manual_test.csv\")"
   ]
  },
  {
   "cell_type": "code",
   "execution_count": 15,
   "metadata": {},
   "outputs": [],
   "source": [
    "def wordopt(text):\n",
    "    # Metni küçük harfe çevir\n",
    "    text = text.lower()\n",
    "    \n",
    "    # Köşeli parantez içindeki ifadeleri kaldır\n",
    "    text = re.sub(r'\\[.*?\\]', '', text)\n",
    "    \n",
    "    # Özel karakterleri boşlukla değiştir (kelime olmayan karakterler)\n",
    "    text = re.sub(r'\\W', ' ', text)\n",
    "    \n",
    "    # URL'leri kaldır\n",
    "    text = re.sub(r'https?://\\S+|www\\.\\S+', '', text)\n",
    "    \n",
    "    # HTML etiketlerini kaldır\n",
    "    text = re.sub(r'<.*?>+', '', text)\n",
    "    \n",
    "    # Noktalama işaretlerini kaldır\n",
    "    text = re.sub(r'[%s]' % re.escape(string.punctuation), '', text)\n",
    "    \n",
    "    # Yeni satır karakterlerini kaldır\n",
    "    text = re.sub(r'\\n', '', text)\n",
    "    \n",
    "    # İçinde sayı bulunan kelimeleri kaldır\n",
    "    text = re.sub(r'\\w*\\d\\w*', '', text)\n",
    "    \n",
    "    return text"
   ]
  },
  {
   "cell_type": "code",
   "execution_count": 16,
   "metadata": {},
   "outputs": [],
   "source": [
    "df[\"text\"] = df[\"text\"].apply(wordopt)"
   ]
  },
  {
   "cell_type": "code",
   "execution_count": 17,
   "metadata": {},
   "outputs": [
    {
     "data": {
      "text/html": [
       "<div>\n",
       "<style scoped>\n",
       "    .dataframe tbody tr th:only-of-type {\n",
       "        vertical-align: middle;\n",
       "    }\n",
       "\n",
       "    .dataframe tbody tr th {\n",
       "        vertical-align: top;\n",
       "    }\n",
       "\n",
       "    .dataframe thead th {\n",
       "        text-align: right;\n",
       "    }\n",
       "</style>\n",
       "<table border=\"1\" class=\"dataframe\">\n",
       "  <thead>\n",
       "    <tr style=\"text-align: right;\">\n",
       "      <th></th>\n",
       "      <th>text</th>\n",
       "      <th>class</th>\n",
       "    </tr>\n",
       "  </thead>\n",
       "  <tbody>\n",
       "    <tr>\n",
       "      <th>0</th>\n",
       "      <td>jerusalem  reuters    israeli prime minister b...</td>\n",
       "      <td>1</td>\n",
       "    </tr>\n",
       "    <tr>\n",
       "      <th>1</th>\n",
       "      <td>washington  reuters    some u s  intelligence ...</td>\n",
       "      <td>1</td>\n",
       "    </tr>\n",
       "    <tr>\n",
       "      <th>2</th>\n",
       "      <td>the electoral map is being redrawn in hillary ...</td>\n",
       "      <td>0</td>\n",
       "    </tr>\n",
       "    <tr>\n",
       "      <th>3</th>\n",
       "      <td>federal prosecutors warned u s  district judge...</td>\n",
       "      <td>0</td>\n",
       "    </tr>\n",
       "    <tr>\n",
       "      <th>4</th>\n",
       "      <td>new york  reuters    some rabbis and jewish st...</td>\n",
       "      <td>1</td>\n",
       "    </tr>\n",
       "  </tbody>\n",
       "</table>\n",
       "</div>"
      ],
      "text/plain": [
       "                                                text  class\n",
       "0  jerusalem  reuters    israeli prime minister b...      1\n",
       "1  washington  reuters    some u s  intelligence ...      1\n",
       "2  the electoral map is being redrawn in hillary ...      0\n",
       "3  federal prosecutors warned u s  district judge...      0\n",
       "4  new york  reuters    some rabbis and jewish st...      1"
      ]
     },
     "execution_count": 17,
     "metadata": {},
     "output_type": "execute_result"
    }
   ],
   "source": [
    "df.head()"
   ]
  },
  {
   "cell_type": "code",
   "execution_count": 18,
   "metadata": {},
   "outputs": [],
   "source": [
    "x = df[\"text\"]\n",
    "y = df[\"class\"]\n",
    "\n",
    "x_train, x_test, y_train, y_test = train_test_split(x, y, test_size=0.2)"
   ]
  },
  {
   "cell_type": "code",
   "execution_count": 19,
   "metadata": {},
   "outputs": [],
   "source": [
    "vectorization = TfidfVectorizer()\n",
    "xv_train = vectorization.fit_transform(x_train)\n",
    "xv_test = vectorization.transform(x_test)"
   ]
  },
  {
   "cell_type": "markdown",
   "metadata": {},
   "source": [
    "LSTM"
   ]
  },
  {
   "cell_type": "code",
   "execution_count": 20,
   "metadata": {},
   "outputs": [
    {
     "name": "stdout",
     "output_type": "stream",
     "text": [
      "Epoch 1/5\n",
      "898/898 [==============================] - 104s 113ms/step - loss: 0.1335 - accuracy: 0.9491 - val_loss: 0.0561 - val_accuracy: 0.9818\n",
      "Epoch 2/5\n",
      "898/898 [==============================] - 113s 125ms/step - loss: 0.0359 - accuracy: 0.9879 - val_loss: 0.0501 - val_accuracy: 0.9832\n",
      "Epoch 3/5\n",
      "898/898 [==============================] - 112s 125ms/step - loss: 0.0260 - accuracy: 0.9912 - val_loss: 0.0536 - val_accuracy: 0.9848\n",
      "Epoch 4/5\n",
      "898/898 [==============================] - 115s 128ms/step - loss: 0.0158 - accuracy: 0.9952 - val_loss: 0.0531 - val_accuracy: 0.9823\n",
      "Epoch 5/5\n",
      "898/898 [==============================] - 116s 130ms/step - loss: 0.0071 - accuracy: 0.9983 - val_loss: 0.0561 - val_accuracy: 0.9878\n",
      "281/281 [==============================] - 6s 19ms/step\n"
     ]
    }
   ],
   "source": [
    "max_words = 10000  # Kullanılacak en fazla kelime sayısı\n",
    "max_len = 200  # Metinlerin maksimum uzunluğu (kelime sayısı)\n",
    "tokenizer = Tokenizer(num_words=max_words)  # Tokenizer'ı tanımlıyoruz, sadece en yaygın 'max_words' kelimeleri dikkate alacak\n",
    "tokenizer.fit_on_texts(x_train)  # Eğitim verisi üzerinde tokenizer'ı eğitiyoruz (kelimeleri sayıp dizin oluşturuyor)\n",
    "\n",
    "X_train_seq = pad_sequences(tokenizer.texts_to_sequences(x_train), maxlen=max_len) #Eğitim metinlerini kelimelerden sayılara dönüştürür.\n",
    "X_test_seq = pad_sequences(tokenizer.texts_to_sequences(x_test), maxlen=max_len) #Elde edilen sayılar dizisini, belirtilen max_len uzunluğuna getirecek şekilde pad'ler (yani, kısa metinlere sıfırlar ekler) veya keser.\n",
    "\n",
    "lstm_model = Sequential([\n",
    "    Embedding(input_dim=max_words, output_dim=64, input_length=max_len), #giriş metinlerini sayısal vektörler haline getirir,  her kelimeyi 64 boyutlu bir vektöre dönüştürür\n",
    "    Bidirectional(LSTM(64)), # veriyi her iki yönde (geriye ve ileriye doğru) işleyerek daha zengin özellikler çıkarır. 64 nöronlu bir LSTM katmanı\n",
    "    Dense(1, activation='sigmoid') #Burada yalnızca bir çıktı olacak, bu yüzden Dense(1). Sigmoid aktivasyon fonksiyonu, çıkışı [0, 1] arasında sınıflandıracak \n",
    "])\n",
    "lstm_model.compile(optimizer='adam', loss='binary_crossentropy', metrics=['accuracy']) #adam optimizer = daha hızlı ve etkili bir şekilde öğrenme, İkili sınıflandırma problemi olduğu için binary_crossentropy,\n",
    "\n",
    "history = lstm_model.fit(X_train_seq, np.array(y_train), epochs=5, batch_size=32, validation_split=0.2) # Eğitim verisinin %20'lik bir kısmı doğrulama (validation) için ayrılacak. \n",
    "lstm_predictions = (lstm_model.predict(X_test_seq) > 0.5).astype(int).flatten()\n",
    "# Test verisi üzerinde tahminlerde bulunuyoruz. Modelin çıkışı [0, 1] arasında bir değer olacak.\n",
    "#Çıktıları 0.5'ten büyükse 1, küçükse 0 olarak sınıflandırıyoruz. Bu, ikili sınıflandırma problemleri için yaygın bir tekniktir.\n",
    "#Çıktıyı tam sayıya dönüştürüyoruz (0 veya 1).\n",
    "#Çıktıyı düzleştiriyoruz, çünkü predict fonksiyonu genellikle 2D bir array döndürür, biz ise tek boyutlu bir vektör istiyoruz.\n"
   ]
  },
  {
   "cell_type": "code",
   "execution_count": 21,
   "metadata": {},
   "outputs": [
    {
     "name": "stdout",
     "output_type": "stream",
     "text": [
      "Final training accuracy: 0.9982599020004272\n",
      "Test accuracy: 0.9860801781737194\n"
     ]
    }
   ],
   "source": [
    "print(f\"Final training accuracy: {history.history['accuracy'][-1]}\")\n",
    "accuracy = accuracy_score(y_test, lstm_predictions)\n",
    "print(f\"Test accuracy: {accuracy}\")"
   ]
  },
  {
   "cell_type": "code",
   "execution_count": 22,
   "metadata": {},
   "outputs": [
    {
     "data": {
      "image/png": "[encoded data removed]",
      "text/plain": [
       "<Figure size 1200x500 with 2 Axes>"
      ]
     },
     "metadata": {},
     "output_type": "display_data"
    }
   ],
   "source": [
    "plt.figure(figsize=(12, 5))\n",
    "plt.subplot(1, 2, 1)\n",
    "plt.plot(history.history['loss'], label='Eğitim Kaybı')\n",
    "plt.plot(history.history['val_loss'], label='Doğrulama Kaybı')\n",
    "plt.xlabel('Epochs')\n",
    "plt.ylabel('Kayıp')\n",
    "plt.legend()\n",
    "plt.title('Eğitim ve Doğrulama Kaybı')\n",
    "\n",
    "# Eğitim ve doğrulama doğruluğu\n",
    "plt.subplot(1, 2, 2)\n",
    "plt.plot(history.history['accuracy'], label='Eğitim Doğruluğu')\n",
    "plt.plot(history.history['val_accuracy'], label='Doğrulama Doğruluğu')\n",
    "plt.xlabel('Epochs')\n",
    "plt.ylabel('Doğruluk')\n",
    "plt.legend()\n",
    "plt.title('Eğitim ve Doğrulama Doğruluğu')\n",
    "\n",
    "plt.show()"
   ]
  },
  {
   "cell_type": "code",
   "execution_count": 23,
   "metadata": {},
   "outputs": [
    {
     "data": {
      "image/png": "[encoded data removed]",
      "text/plain": [
       "<Figure size 640x480 with 2 Axes>"
      ]
     },
     "metadata": {},
     "output_type": "display_data"
    },
    {
     "name": "stdout",
     "output_type": "stream",
     "text": [
      "              precision    recall  f1-score   support\n",
      "\n",
      "           0       0.99      0.98      0.99      4694\n",
      "           1       0.98      0.99      0.99      4286\n",
      "\n",
      "    accuracy                           0.99      8980\n",
      "   macro avg       0.99      0.99      0.99      8980\n",
      "weighted avg       0.99      0.99      0.99      8980\n",
      "\n"
     ]
    }
   ],
   "source": [
    "cm = confusion_matrix(y_test, lstm_predictions)\n",
    "\n",
    "disp = ConfusionMatrixDisplay(confusion_matrix=cm)\n",
    "disp.plot(cmap='Blues')\n",
    "plt.title(\"Confusion Matrix\")\n",
    "plt.show()\n",
    "\n",
    "print(classification_report(y_test, lstm_predictions))"
   ]
  },
  {
   "cell_type": "markdown",
   "metadata": {},
   "source": [
    "Naive Bayes"
   ]
  },
  {
   "cell_type": "code",
   "execution_count": null,
   "metadata": {},
   "outputs": [
    {
     "name": "stdout",
     "output_type": "stream",
     "text": [
      "Training accuracy: 0.9432596469736623\n",
      "Test accuracy: 0.9374164810690423\n"
     ]
    }
   ],
   "source": [
    "nb_model = MultinomialNB()\n",
    "\n",
    "nb_model.fit(xv_train, y_train)\n",
    "y_pred = nb_model.predict(xv_test)\n",
    "\n",
    "train_accuracy = nb_model.score(xv_train, y_train)\n",
    "print(f\"Training accuracy: {train_accuracy}\")\n",
    "\n",
    "# Test doğruluğunu hesaplıyoruz\n",
    "test_accuracy = nb_model.score(xv_test, y_test)\n",
    "print(f\"Test accuracy: {test_accuracy}\")\n"
   ]
  },
  {
   "cell_type": "code",
   "execution_count": 27,
   "metadata": {},
   "outputs": [
    {
     "data": {
      "image/png": "[encoded data removed]",
      "text/plain": [
       "<Figure size 600x500 with 2 Axes>"
      ]
     },
     "metadata": {},
     "output_type": "display_data"
    },
    {
     "name": "stdout",
     "output_type": "stream",
     "text": [
      "              precision    recall  f1-score   support\n",
      "\n",
      "           0       0.93      0.95      0.94      4694\n",
      "           1       0.94      0.92      0.93      4286\n",
      "\n",
      "    accuracy                           0.94      8980\n",
      "   macro avg       0.94      0.94      0.94      8980\n",
      "weighted avg       0.94      0.94      0.94      8980\n",
      "\n"
     ]
    }
   ],
   "source": [
    "y_pred = nb_model.predict(xv_test)\n",
    "cm = confusion_matrix(y_test, y_pred)\n",
    "\n",
    "plt.figure(figsize=(6, 5))\n",
    "sns.heatmap(cm, annot=True, fmt='d', cmap='Blues', xticklabels=['Class 0', 'Class 1'], yticklabels=['Class 0', 'Class 1'])\n",
    "plt.title('Confusion Matrix for Decision Tree Model')\n",
    "plt.xlabel('Predicted')\n",
    "plt.ylabel('True')\n",
    "plt.show()\n",
    "\n",
    "print(classification_report(y_test, y_pred))"
   ]
  },
  {
   "cell_type": "markdown",
   "metadata": {},
   "source": [
    " %94 doğruluk oranı, genel tahminlerin büyük çoğunluğunun doğru olduğunu ortaya koyuyor. Precision ve Recall değerleri her iki sınıfta da %92-95 arasında değişmekte ve bu, modelin yanlış pozitifleri ve yanlış negatifleri dengeli bir şekilde minimize ettiğini göstermektedir. Ayrıca F1-score değerlerinin yüksek ve dengeli olması, modelin hem sahte hem de gerçek haberleri doğru bir şekilde sınıflandırmada tutarlı bir performans sergilediğini ifade eder. Bu sonuçlarla model, sahte haber tespiti için güvenilir bir araç olarak değerlendirilebilir ve küçük iyileştirmelerle daha da optimize edilebilir."
   ]
  },
  {
   "cell_type": "markdown",
   "metadata": {},
   "source": [
    "SVM"
   ]
  },
  {
   "cell_type": "code",
   "execution_count": 28,
   "metadata": {},
   "outputs": [
    {
     "name": "stdout",
     "output_type": "stream",
     "text": [
      "Training accuracy: 0.9982738459825158\n",
      "Test accuracy: 0.9955456570155902\n"
     ]
    }
   ],
   "source": [
    "svm_model = SVC(kernel='linear')  # Kernel tipini 'linear' seçiyoruz (doğrusal sınıflandırma)\n",
    "svm_model.fit(xv_train, y_train)\n",
    "\n",
    "train_accuracy = svm_model.score(xv_train, y_train)\n",
    "print(f\"Training accuracy: {train_accuracy}\")\n",
    "\n",
    "test_accuracy = svm_model.score(xv_test, y_test)\n",
    "print(f\"Test accuracy: {test_accuracy}\")"
   ]
  },
  {
   "cell_type": "code",
   "execution_count": 29,
   "metadata": {},
   "outputs": [
    {
     "data": {
      "image/png": "[encoded data removed]",
      "text/plain": [
       "<Figure size 600x500 with 2 Axes>"
      ]
     },
     "metadata": {},
     "output_type": "display_data"
    },
    {
     "name": "stdout",
     "output_type": "stream",
     "text": [
      "              precision    recall  f1-score   support\n",
      "\n",
      "           0       1.00      1.00      1.00      4694\n",
      "           1       0.99      1.00      1.00      4286\n",
      "\n",
      "    accuracy                           1.00      8980\n",
      "   macro avg       1.00      1.00      1.00      8980\n",
      "weighted avg       1.00      1.00      1.00      8980\n",
      "\n"
     ]
    }
   ],
   "source": [
    "y_pred = svm_model.predict(xv_test)\n",
    "cm = confusion_matrix(y_test, y_pred)\n",
    "\n",
    "plt.figure(figsize=(6, 5))\n",
    "sns.heatmap(cm, annot=True, fmt='d', cmap='Blues', xticklabels=['Real', 'Fake'], yticklabels=['Real', 'Fake'])\n",
    "plt.title('Confusion Matrix for SVM Model')\n",
    "plt.xlabel('Predicted')\n",
    "plt.ylabel('True')\n",
    "plt.show()\n",
    "\n",
    "print(classification_report(y_test, y_pred))"
   ]
  },
  {
   "cell_type": "markdown",
   "metadata": {},
   "source": [
    "SVM modelinin %100 doğruluk ve %100 F1-score gibi mükemmel sonuçları, başlangıçta yüksek bir performans gösterdiği izlenimini uyandırıyor; ancak bu, aynı zamanda overfitting (aşırı uyum) olasılığını da gündeme getiriyor. Modelin eğitim verisine mükemmel uyum sağlıyor olması, test verisinde benzer sonuçlar alınıp alınmadığını test etmeden genellenebilir bir başarı olduğu konusunda yanıltıcı olabilir. "
   ]
  },
  {
   "cell_type": "markdown",
   "metadata": {},
   "source": [
    "Logistic Regression"
   ]
  },
  {
   "cell_type": "code",
   "execution_count": 32,
   "metadata": {},
   "outputs": [
    {
     "name": "stdout",
     "output_type": "stream",
     "text": [
      "Training accuracy: 0.9911743415557659\n",
      "Test accuracy: 0.9894209354120267\n"
     ]
    }
   ],
   "source": [
    "log_reg_model = LogisticRegression() \n",
    "log_reg_model.fit(xv_train, y_train)\n",
    "\n",
    "train_accuracy = log_reg_model.score(xv_train, y_train)\n",
    "print(f\"Training accuracy: {train_accuracy}\")\n",
    "\n",
    "test_accuracy = log_reg_model.score(xv_test, y_test)\n",
    "print(f\"Test accuracy: {test_accuracy}\")"
   ]
  },
  {
   "cell_type": "code",
   "execution_count": 33,
   "metadata": {},
   "outputs": [
    {
     "data": {
      "image/png": "[encoded data removed]",
      "text/plain": [
       "<Figure size 640x480 with 2 Axes>"
      ]
     },
     "metadata": {},
     "output_type": "display_data"
    },
    {
     "name": "stdout",
     "output_type": "stream",
     "text": [
      "              precision    recall  f1-score   support\n",
      "\n",
      "           0       0.99      0.99      0.99      4694\n",
      "           1       0.99      0.99      0.99      4286\n",
      "\n",
      "    accuracy                           0.99      8980\n",
      "   macro avg       0.99      0.99      0.99      8980\n",
      "weighted avg       0.99      0.99      0.99      8980\n",
      "\n"
     ]
    }
   ],
   "source": [
    "y_pred_lr = log_reg_model.predict(xv_test)\n",
    "cm = confusion_matrix(y_test, y_pred)\n",
    "\n",
    "disp = ConfusionMatrixDisplay(confusion_matrix=cm)\n",
    "disp.plot(cmap='Blues')\n",
    "plt.title(\"Confusion Matrix\")\n",
    "plt.show()\n",
    "\n",
    "print(classification_report(y_test, y_pred))"
   ]
  },
  {
   "cell_type": "markdown",
   "metadata": {},
   "source": [
    "Logistic Regression modelinin sonuçları oldukça başarılı ve dengeli bir performans sergiliyor. %99 doğruluk oranı, modelin genel olarak doğru tahminlerde bulunduğunu gösteriyor. Precision, Recall ve F1-score değerlerinin her iki sınıf için de %99 civarında olması, modelin sahte haberleri ve gerçek haberleri neredeyse mükemmel bir şekilde ayırt edebildiğini ve her iki sınıfı doğru şekilde sınıflandırmada tutarlı olduğunu ortaya koyuyor. Macro ve weighted average değerlerinin %99 olması, modelin sınıflar arasındaki dengesizliği göz önünde bulundurmadan her iki sınıfta da başarılı bir performans sergilediğini ve genelleme yeteneğinin oldukça yüksek olduğunu gösteriyor. Bu sonuçlar, modelin güvenilir bir şekilde sahte haber tespiti yapabileceğini gösteriyor."
   ]
  },
  {
   "cell_type": "markdown",
   "metadata": {},
   "source": [
    "LSTM Test"
   ]
  },
  {
   "cell_type": "code",
   "execution_count": 35,
   "metadata": {},
   "outputs": [
    {
     "name": "stdout",
     "output_type": "stream",
     "text": [
      "Test edilen metin:\n",
      " KILLED: Rancher and protest spokesman Robert  Lavoy  Finicum (Image Source: RT International)21st Century Wire says New eye witness testimony indicates that the FBI and other federal agencies were never fired upon, but have shot and killed leading protester, Robert  Lavoy  Finicum, and wounding one other in a elaborate operation that took place along a rural highway near Burns, Oregon.For 26 days since the protest and occupation began at the Malheur Wildlife Refuge outside of Burns, Oregon there were no one was hurt and there were no injuries. That all changed early Tuesday evening when the FBI and Oregon State Police raised the ante, bringing the 4 week standoff to a dramatic ending.As detailed in yesterday s report, according to 18 yr old passenger and eyewitness, Victoria Sharp, dozens of federal vehicles and armed agents had set-up a pre-positioned roadblocks along an isolated stretch of rural Highway 395 before intercepting two vehicles and firing upon one of them, killing rancher and protest spokesman, Robert  Lavoy  Finicum, from Chino Valley, Arizona, and wounding Ryan Bundy of Bunkerville, Nevada.A total of 8 persons were detained, 5 of whom were charged with conspiracy to impede federal officers and are waiting arraignment.21WIRE journalist Patrick Henningsen weighs in on the situation in Oregon and discusses its implications with news anchor Rory Suchet from RT International. Watch: UPDATE 1-28-2016 at 11:30PM ET: Due to public pressure and intense speculation about the events of Tuesday evening, and because of the YouTube recording of 18 yr old eye witness Victoria Sharp, the FBI has released the unedited aerial video footage from Tuesday evening s incident which took place along Highway 395 here. According to the official FBI statement:  We feel that it is necessary to show the whole thing unedited in the interest of transparency.  The FBI video entitled,  Complete, Unedited Video of Joint FBI and OSP Operation 01/26/2016 , does show the victim Lavoy Finicum exiting the truck awkwardly in at least two feet of snow, and he clearly does not  charge towards  the SWAT team, and his hands are clearly held high above his head as he exits his truck when confronted by a SWAT team, before being shot multiple times by marksmen and falling in the snow. Also, the scale and size of this operation is very evident by the footage, and the apprehension of the protesters was not the result of a mere  traffic stop  as it was wrongly characterized in multiple mainstream media reports. On its own, this FBI drone footage would appear to support previous government and media claims by CNN, Washington Post and others that the victim was indeed  reaching towards his waistband  which gave federal and state police justification to unleash deadly force. However, it is still not completely clear from this aerial footage whether or not Finicum was holstered (he is said to normally carry a gun on the right hip, but FBI are claiming he had a 9mm gun in his inside left breast pocket), but also whether or not he lowered his arms before, or after he was shot multiple times. For example, if Finicum had his hands in the air and was then was shot in the abdomen first, then any man s natural reaction would be to then lower his hand(s) and clutch the wound. Additionally, if any shots were fired, even in the vicinity, then confusion could have ensued which might have prompted Finicum to reach for his weapon. Either way, it is impossible to make any such a forensic determination without a corresponding audio track  which would help to determine if any shots were fired before Finicum s hand(s) could be seen lowering.WARNING: The following images depict violence and death which some readers may find disturbing. Watch: SEE MORE OREGON STANDOFF NEWS AT: 21st Century Wire Oregon Standoff Files\n",
      "\n",
      "1/1 [==============================] - 0s 22ms/step\n",
      "Tahmin: Gerçek Haber (0.00)\n"
     ]
    }
   ],
   "source": [
    "df_manual_test = pd.read_csv(\"manual_test.csv\")\n",
    "\n",
    "test_text = df_manual_test['text'].iloc[0]\n",
    "test_seq = pad_sequences(tokenizer.texts_to_sequences([test_text]), maxlen=max_len)\n",
    "\n",
    "print(f\"Test edilen metin:\\n{test_text}\\n\")\n",
    "\n",
    "prediction = lstm_model.predict(test_seq)\n",
    "\n",
    "if prediction[0][0] > 0.8:\n",
    "    print(f\"Tahmin: Sahte Haber ({prediction[0][0]:.2f})\")\n",
    "else:\n",
    "    print(f\"Tahmin: Gerçek Haber ({prediction[0][0]:.2f})\")"
   ]
  },
  {
   "cell_type": "markdown",
   "metadata": {},
   "source": [
    "Naive Bayes Test"
   ]
  },
  {
   "cell_type": "code",
   "execution_count": 38,
   "metadata": {},
   "outputs": [
    {
     "name": "stdout",
     "output_type": "stream",
     "text": [
      "Test edilen metin:\n",
      "Tune in to the Alternate Current Radio Network (ACR) for another LIVE broadcast of  The Boiler Room  starting at 6 PM PST | 9 PM EST every Wednesday. Join us for uncensored, uninterruptible talk radio, custom-made for barfly philosophers, misguided moralists, masochists, street corner evangelists, media-maniacs, savants, political animals and otherwise lovable rascals.Join ACR hosts Hesher, & Spore along with Andy Nowicki from Alt Right Blogspot, 21Wire mastermind Patrick Henningsen and Stewart Howe. In this broadcast we re going big time with an extra long overdrive episode, listeners will be hearing us go around the BOILER ROOM on a plethora of topics tonight including  cuddle parties,  a Saudi millionaire running free on rape allegations after claiming to have tripped and fell on victim, Hesher bashes Guns  N Roses, the life span of the iPod about to be ended by a resurgence in tape cassette technology, permaculture farming, federal land grabs, and the demonization of the militia. We give a detailed breakdown of the situation unfolding in Oregon with regards to the Ammon Bundy s (and others) arrest and the execution style ambush and murder of Robert Lavoy Finicum. If you want to participate, bring something interesting to throw into the boiler Join us in the ALTERNATE CURRENT RADIO chat room.BOILER ROOM IS NOT A POLICTALLY CORRECT ZONE!   Live ACR player below   Show goes live at 6 PM PST This week s topics: \n",
      "\n",
      "Tahmin: Gerçek Haber\n"
     ]
    }
   ],
   "source": [
    "from sklearn.feature_extraction.text import CountVectorizer\n",
    "\n",
    "df_manual_test = pd.read_csv(\"manual_test.csv\")\n",
    "\n",
    "test_text = df_manual_test['text'].iloc[1] \n",
    "\n",
    "print(f\"Test edilen metin:\\n{test_text}\\n\")\n",
    "\n",
    "# Metni modele uygun hale getirmek için CountVectorizer kullanılıyor\n",
    "vectorizer = CountVectorizer()  # Eğitimde kullanılan vektörizer ile aynı olmalı\n",
    "vectorizer.fit(x_train)  # Eğitim verileri üzerinde vektörizer'ı eğitiyoruz\n",
    "\n",
    "# Metni vektörize ediyoruz\n",
    "test_vector = vectorizer.transform([test_text])\n",
    "\n",
    "prediction = nb_model.predict(test_vector)\n",
    "\n",
    "if prediction[0] == 1:\n",
    "    print(\"Tahmin: Sahte Haber\")\n",
    "else:\n",
    "    print(\"Tahmin: Gerçek Haber\")"
   ]
  },
  {
   "cell_type": "markdown",
   "metadata": {},
   "source": [
    "SVM Test"
   ]
  },
  {
   "cell_type": "code",
   "execution_count": 39,
   "metadata": {},
   "outputs": [
    {
     "name": "stdout",
     "output_type": "stream",
     "text": [
      "Test edilen metin:\n",
      "Patrick Henningsen 21st Century Wire UPDATE: 1-30-2016 Last night, the standoff at Malheur National Wildlife Refuge outside Burns, Oregon took a rather ugly turn which resulted in one man shot dead and another wounded by federal agents.The latest incident took place as two vehicles carrying protesters, led by Ammon Bundy, were en route to a community meeting in the nearby town of John Day in Oregon.According to numerous mainstream media reports and local media outlet Oregon Live,  federal sources  are telling the media that only  3 shots were fired , but a new eye witness testimony by one of the vehicle s passengers tells a very different story.While the mainstream media is still referring to the event as  a shoot-out , according to this latest eye witness account at the scene   no shots were fired by vehicle passengers.According to eyewitness Victoria Sharp, 18 yrs old, from Kansas, who was a passenger in the same truck driven by Arizona rancher Robert  Lavoy  Finicum, along with Ryan Bundy, Ryan Payne and Shawna Cox   dozens of federal vehicles and countless agents were waiting for the group, pre-positioned at a point along the isolated rural Highway 395, before intercepting the group and detaining 8 persons, including brothers Ammon and Ryan Bundy, who were booked into Multnomah County Jail early this morning.Sharp confirmed that the passengers never drew weapons and attempted to get out of their vehicles before federal agents fired  at least 120 shots altogether  at the vehicle carrying her party.RELATED:  Federal Government Escalated the Violence in Oregon Federal agents fired their first shots at passenger and militia leader, Ryan Payne, as he attempted to make contact with the agents by sticking his head and hands out of the window, at which point Payne got back inside the vehicle.Payne then exited the truck and was detained before driver Finicum advanced the vehicle further down the road before sliding into a snow bank on the side of the road.A second vehicle, a Jeep with passengers including Ammon Bundy, had already been stopped by authorities, with its all passengers taken into custody with no one harmed.A third vehicle driving approximately one mile ahead at the front of the convoy, carrying Sharp s mother and young siblings, was allowed to pass through the police roadblocks without incident. Finicum then attempted to drive around the next federal road block, but lost control of the vehicle before careening into snow piled on the road s hard shoulder.After crashing into the snow bank on the side of the highway, the driver, 54 yr old Arizona resident, Lavoy Finicum (photo, above), then exited the vehicle, visibly upset and with his hands in the air, before being gunned down by federal agents. Finicum was walking with his hands in the air, daring federal agents,  Just shoot me! Just shoot me    at which point the agents shot him dead. The witness testimony indicates that his hands were still in the air.Numerous  red dots  from lasers could be seen pointed on the passengers by federal marksmen, in what was described by this witness as an  ambush  by federal authorities. Sharps said,  I had 20 lasers on me when I got out of the car. She also confirmed that Ryan Bundy was shot and wounded in the arm by federal agents was shot while still inside the truck.Federal forces then followed-up by firing CS tear gas rounds around the vehicle, apparently in an attempt to further disable the remaining passengers.At least 40 federal vehicles, as well as many armed federal agents including some seen emerging from the surrounding forest along the highway, should leave little doubt as to the scale and nature of the operation.Listen to Ms. Sharp s harrowing testimony here: IMPORTANT NOTE (UPDATE 1-30-16): According to this recent report by Pedro Quintana from Central Oregon local affiliate News Channel 21, Sheriff Palmer was not at the federal roadblock and had no prior knowledge of the FBI ambush of the Bundy convoy. According to the chat session relayed in Pedro Quintana s report, Palmer was asked in an online chat,  Did you witness Lavoy shooting, or no? , to which Palmer replies,  NO  The shooting from what I hear was close to 4 and I heard of it at about 5:45pm.  News 21continued: Palmer responded he had no knowledge of anything about the plans or who was coming to the public meeting. He went on to say that the  FBI and Oregon State Police know me, they shared nothing with me and they know I wouldn t have allowed it. Earlier mainstream media reports that Palmer was present at the FBI roadblock would lead Bundy supporters to believe that Palmer had betrayed the Bundys and Lavoy Finicum. One the main sources, if not the main source of the original Sheriff Palmer controversy appears to be none other than Oregon Live staff writer Les Zaitz who has slipped-in this key piece of line into his report which which says: They said they didn t know how long the roadblock would be place. Grant County Sheriff Glenn Palmer was there.  Not surprisingly, this has set-off a virtual backlash online against the Grant County Sheriff, as evidenced by the following screen shot of Google search link found here:  Is this a case of media dirty tricks by Oregon Live? Certainly, Oregon Live s coverage of Burns events has been skewed from the beginning, and have been running character assassination pieces against Malheur occupiers in a effort to discredit the protest. Sheriff Palmer is clearly on record as being sympathetic to the Hammond Ranch protest and had recently opened up a constructive dialogue with the Bundys and occupiers from Malheur Wildlife Refuge. If Pedro Quintana s News 21 report is indeed accurate, then one might conclude that Oregon Live put out a piece of disinformation, likely designed to further divide the protest movement and create dissension in militia and activist ranks. However, until Sheriff Glenn Palmer comes out and issues clear statement declaring where he was   and where he wasn t, then people will continue to speculate what really happened. (END OF UPDATE)Conflicting AccountsReporter Les Zaitz from Oregon Live, a key source of mainstream media information from the Refuge protest, did not give prominence to Victoria Sharp s account in his article, but instead chose to lead with and highlight the secondhand account of the other vehicle s passenger Mark McConnell who claimed that unarmed victim Lavoy Finicum  charged at law enforcement  before being shot. Zaitz s article even admits that McConnell s vehicle was at least 200 yards behind the truck driven by Finicum.Incredibly, Oregonian Zaitz appears to favor McConnell s account on the basis that his account has  matched accounts from law enforcement sources.  McConnell issued his version of events after being released from law enforcement custody, where he spoke for 2 hours with federal agents.Tabloid news site Raw Story also ran with a similar narrative with a deceptive headline that read  Eyewitnesses knock down conspiracy theories about LaVoy Finicum , referring to secondhand accounts by McConnell and colleague, Melvin Lee.As it turns out, Mark McConnell did not actually see the shooting, and instead had  pieced together  his account, as evidenced by his own statement later posted online: going off of what Shawna Cox and Ryan Payne were saying, which were in the vehicle, um, Visually, I seen the truck take off, you know, now any time someone takes off in a vehicle away from law enforcement after they exercise a stop, it s typically considered an act of aggression and foolish. Payne said while they were sitting there and they were clearing my vehicle that him and LeVoy had a heated discussion but he took off they had to chase him, and from what Shawna Cox was saying  from inside of his truck that when he exited the vehicle  he charged after law enforcement . What I do know to be true, from what Payne said and what Shawna said taken pieces here and pieces there and from what I witnessed, um, I didn t see the shooting, um, he was not on his knees, he was not, none of that non sense, that was a miscommunication on somebody else s part but he went after em, he charged em. Here, McConnell is, in effect, issuing a proxy statement on behalf of Victoria Sharp s fellow passengers, Shawn Cox and Ryan Payne. This is hardly admissible, as both Cox and Payne are currently in federal custody and are not able to verify the accuracy of McConnell reiteration. And yet, mainstream media outlets are propping-up McConnell s account, while minimizing Sharp s.After speculating about the shooting, McConnell then says,   I didn t see it, and I m not going to speculate on it. McConnell is said to have been driving in the rear vehicle with Ammon Bundy and his private security, Brian Cavalier.SEE ALSO: Activists or Terrorist? The Truth About the Oregon StandoffUPDATE 1-28-2016: On Wednesday evening, CNN International released a report based on an  anonymous government source  claiming that Finicum was killed by federal agents because he was  reaching towards his waistband.  The Washington Post then re-spun the story, and rather incredibly   is relying on the very same secondhand story presented by Mark McConnell, in a desperate attempt to prop-up the government s version of events: In the moments before he was shot by authorities Tuesday afternoon, Finicum led a high-speed getaway attempt. He then reached for his waistband, prompting authorities to open fire, according to a CNN report.The report, which cites anonymous law enforcement officials but has not been confirmed by The Washington Post, is corroborated by a statement from an occupier who said he was traveling with Finicum at the time of the traffic stop. The fact the media have chosen to label this incident as a  traffic stop  indicates an obvious agenda designed to minimize the obvious   that this was a pre-planned, elaborate ambush by the FBI and Oregon State Police.This same unnamed  source  cited by CNN is also told the network that the incident was indeed captured on video by the FBI, but that authorities  have not decided whether or not the release the video.  (see more breaking updates on this development below)See a full breakdown CNN, Washington Post and the government narrative here.Federal EscalationThis shocking turn of events comes just days after Oregon governor Kate Brown issued what some might consider to be a veiled threat to the protesters and militia, saying that the federal government  must move quickly to end the occupation and hold all of the wrongdoers accountable. Reports last week indicated that the governor had personally written the White House and President Obama, which specifically addressed Attorney General Loretta Lynch and FBI director James Comey, in which Brown expressed her outrage that Harney County and the state of Oregon was not being recognized for its  collaborative achievements , but rather for  outsiders seeking to exploit and manipulate a local matter for their own agenda. According to the FBI s press release, arrested individuals include:Ammon Edward Bundy, 40, of Emmett, Idaho Ryan C. Bundy, 43, of Bunkerville, Nevada Brian Cavalier, 44, of Bunkerville, Nevada Shawna Cox, 59, of Kanab, Utah Ryan Waylen Payne, 32, of Anaconda, Montana Joseph Donald O Shaughnessy, 45, of Cottonwood, ArizonaAfter the federal operation on Highway 395, in a separate incident back at the Wildlife Refuge, YouTube and internet radio personality, Peter Santilli, 50, of Cincinnati, Ohio, approached the venue and walked towards federal agents before being taken into custody.BREAKING: Booking photos of Ammon Bundy, 7 others after arrest near Burns. https://t.co/AcqRyP4pd5 #KOIN6News pic.twitter.com/un82wepf95  Brent Weisberg (@BrentKOIN) January 27, 2016Those still in detention are scheduled to be arraigned at 1:30 p.m. Tuesday in U.S. District Court in Portland.According to reports, FBI agents in Phoenix also  made a probable cause arrest of Jon Eric Ritzheimer, age 32, on a federal charge related to the armed occupation of the Malheur National Wildlife Refuge in Harney County, Oregon. Jon Ritzheimer, another controversial YouTube personality and former US Marine, appears to have left the Malheur Refuge right before the federal operation to apprehend the protesters, when he returned to his home in Peoria, Arizona.Back at the Refuge protest site, the FBI are said to be negotiating with remaining 8 to 10 occupiers inside, with reports that most women and minors have already left the site.Three weeks ago, Finicum, who become the protest s media spokesperson, made a prophetic statement on camera saying that,  There are things more important than your life, and freedom is one of them.  Watch:UPDATE 1-28-2016: Any public distrust or skepticism of the federal authorities would immediately be dispelled by speed release of all video footage (with dozens of agents and surveillance, there should have been more than one video feed taken, including body and gun sight cameras) of the event. Whether or not, and how fast this will happen remains to be seen.UPDATE 1-29-2016 at 01:30PM ET: Due to public pressure and intense speculation about the events of Tuesday evening, and also because of the YouTube recording of eye witness 18 yr old Victoria Sharp, the FBI has released the unedited aerial video footage from Tuesday evening s incident which took place along Highway 395 here. According to the official FBI statement:  We feel that it is necessary to show the whole thing unedited in the interest of transparency.  The FBI video entitled,  Complete, Unedited Video of Joint FBI and OSP Operation 01/26/2016 , does show the victim Lavoy Finicum exiting the truck awkwardly in at least two feet of snow, and he clearly does not  charge towards  the SWAT team, and his hands are clearly held high above his head as he exits his truck when confronted by a SWAT team, before being shot multiple times by marksmen and falling in the snow. Also, the scale and size of this operation is very evident by the footage, and the apprehension of the protesters was not the result of a mere  traffic stop  as erroneously characterized in multiple mainstream media reports. On its own, this FBI drone footage would appear to support previous government and media claims by CNN, Washington Post and others that the victim was indeed  reaching towards his waistband  which gave federal and state police justification to unleash deadly force. However, it is still not completely clear from this aerial footage whether or not Finicum was holstered (he is said to normally carry a gun on the right hip, but FBI are claiming he had a 9mm gun in his inside left breast pocket), but also whether or not he lowered his arms before, or after he was shot multiple times. For example, if Finicum had his hands in the air and was then was shot in the abdomen first, then any man s natural reaction would be to then lower his hand(s) and clutch the wound. Additionally, if any shots were fired, even in the vicinity, then confusion could have ensued which might have prompted Finicum to reach for his weapon. Either way, it is impossible to make any such a forensic determination without a corresponding audio track  which would help to determine if any shots were fired before Finicum s hand(s) could be seen lowering. WARNING: Images depict violence which some viewers may find disturbing. Watch here: READ MORE OREGON STANDOFF NEWS AT: 21st Century Wire Oregon Standoff Files\n",
      "\n",
      "Tahmin: Sahte Haber\n"
     ]
    }
   ],
   "source": [
    "df_manual_test = pd.read_csv(\"manual_test.csv\")\n",
    "\n",
    "test_text = df_manual_test['text'].iloc[2]\n",
    "\n",
    "print(f\"Test edilen metin:\\n{test_text}\\n\")\n",
    "\n",
    "# Metni modele uygun hale getirmek için CountVectorizer kullanılıyor\n",
    "vectorizer = CountVectorizer()  # Eğitimde kullanılan vektörizer ile aynı olmalı\n",
    "vectorizer.fit(x_train)  # Eğitim verileri üzerinde vektörizer'ı eğitiyoruz\n",
    "\n",
    "# Metni vektörize ediyoruz\n",
    "test_vector = vectorizer.transform([test_text])\n",
    "\n",
    "prediction = svm_model.predict(test_vector)\n",
    "\n",
    "if prediction[0] == 1:\n",
    "    print(\"Tahmin: Sahte Haber\")\n",
    "else:\n",
    "    print(\"Tahmin: Gerçek Haber\")"
   ]
  },
  {
   "cell_type": "markdown",
   "metadata": {},
   "source": [
    "Logistic Regression Test"
   ]
  },
  {
   "cell_type": "code",
   "execution_count": 40,
   "metadata": {},
   "outputs": [
    {
     "name": "stdout",
     "output_type": "stream",
     "text": [
      "Test edilen metin:\n",
      "Episode #119 of SUNDAY WIRE SHOW finally resumes this Sunday Jan. 24, 2016 presented by host Patrick Henningsen with 3 HOURS of power-packed talk radio LISTEN LIVE ON THIS PAGE AT THE FOLLOING SCHEDULED SHOW TIMES:SUNDAYS   5pm-8pm UK Time | 12pm-3pm ET (US) | 9am-12pm PT (US)This week s very special edition of THE SUNDAY WIRE is broadcasting LIVE, as host Patrick Henningsen returns this week with another very special show, covering the top news stories internationally. In the first hour we ll look at the latest incarnation of the Litvinenko murder mystery, the upcoming Iowa Caucuses, new reports of MH370 wreckage found in Thailand, as well as the stand-off in Burns, Oregon. In the second hour we re joined by special guest, independent researcher and investigator, Robert Singer, to discuss some new information in the San Bernardino Shooting story. In the third hour we re joined by writer and social commentator Jay Dyer to talk about the wider effects of Mass Shootings in America with including  political manipulation and the implications of social engineering.Strap yourselves in and lower the blast shield   this is your brave new world *NOTE: THIS EPISODE MAY CONTAIN SOME STRONG LANGUAGE AND MATURE THEMES*   // <![CDATA[ broadstreet.zone(46707); // ]]&gt; \n",
      "\n",
      "Tahmin: Gerçek Haber\n"
     ]
    }
   ],
   "source": [
    "df_manual_test = pd.read_csv(\"manual_test.csv\")\n",
    "\n",
    "test_text = df_manual_test['text'].iloc[3]\n",
    "\n",
    "print(f\"Test edilen metin:\\n{test_text}\\n\")\n",
    "\n",
    "# Metni modele uygun hale getirmek için CountVectorizer kullanılıyor\n",
    "vectorizer = CountVectorizer()  # Eğitimde kullanılan vektörizer ile aynı olmalı\n",
    "vectorizer.fit(x_train)  # Eğitim verileri üzerinde vektörizer'ı eğitiyoruz\n",
    "\n",
    "# Metni vektörize ediyoruz\n",
    "test_vector = vectorizer.transform([test_text])\n",
    "\n",
    "prediction = log_reg_model.predict(test_vector)\n",
    "\n",
    "if prediction[0] == 1:\n",
    "    print(\"Tahmin: Sahte Haber\")\n",
    "else:\n",
    "    print(\"Tahmin: Gerçek Haber\")"
   ]
  },
  {
   "cell_type": "markdown",
   "metadata": {},
   "source": [
    "<table border=\"1\">\n",
    "  <thead>\n",
    "    <tr>\n",
    "      <th>Model</th>\n",
    "      <th>Training Accuracy</th>\n",
    "      <th>Test Accuracy</th>\n",
    "      <th>Precision (0)</th>\n",
    "      <th>Recall (0)</th>\n",
    "      <th>F1-Score (0)</th>\n",
    "      <th>Precision (1)</th>\n",
    "      <th>Recall (1)</th>\n",
    "      <th>F1-Score (1)</th>\n",
    "      <th>Macro Avg Precision</th>\n",
    "      <th>Macro Avg Recall</th>\n",
    "      <th>Macro Avg F1-Score</th>\n",
    "      <th>Weighted Avg Precision</th>\n",
    "      <th>Weighted Avg Recall</th>\n",
    "      <th>Weighted Avg F1-Score</th>\n",
    "    </tr>\n",
    "  </thead>\n",
    "  <tbody>\n",
    "    <tr>\n",
    "      <td>LSTM</td>\n",
    "      <td>0.9983</td>\n",
    "      <td>0.9861</td>\n",
    "      <td>0.99</td>\n",
    "      <td>0.98</td>\n",
    "      <td>0.99</td>\n",
    "      <td>0.98</td>\n",
    "      <td>0.99</td>\n",
    "      <td>0.99</td>\n",
    "      <td>0.99</td>\n",
    "      <td>0.99</td>\n",
    "      <td>0.99</td>\n",
    "      <td>0.99</td>\n",
    "      <td>0.99</td>\n",
    "    </tr>\n",
    "    <tr>\n",
    "      <td>Naive Bayes</td>\n",
    "      <td>0.9433</td>\n",
    "      <td>0.9374</td>\n",
    "      <td>0.93</td>\n",
    "      <td>0.95</td>\n",
    "      <td>0.94</td>\n",
    "      <td>0.94</td>\n",
    "      <td>0.92</td>\n",
    "      <td>0.93</td>\n",
    "      <td>0.94</td>\n",
    "      <td>0.94</td>\n",
    "      <td>0.94</td>\n",
    "      <td>0.94</td>\n",
    "      <td>0.94</td>\n",
    "    </tr>\n",
    "    <tr>\n",
    "      <td>SVM</td>\n",
    "      <td>0.9983</td>\n",
    "      <td>0.9955</td>\n",
    "      <td>1.00</td>\n",
    "      <td>1.00</td>\n",
    "      <td>1.00</td>\n",
    "      <td>0.99</td>\n",
    "      <td>1.00</td>\n",
    "      <td>1.00</td>\n",
    "      <td>1.00</td>\n",
    "      <td>1.00</td>\n",
    "      <td>1.00</td>\n",
    "      <td>1.00</td>\n",
    "      <td>1.00</td>\n",
    "    </tr>\n",
    "    <tr>\n",
    "      <td>Logistic Regression</td>\n",
    "      <td>0.9912</td>\n",
    "      <td>0.9894</td>\n",
    "      <td>0.99</td>\n",
    "      <td>0.99</td>\n",
    "      <td>0.99</td>\n",
    "      <td>0.99</td>\n",
    "      <td>0.99</td>\n",
    "      <td>0.99</td>\n",
    "      <td>0.99</td>\n",
    "      <td>0.99</td>\n",
    "      <td>0.99</td>\n",
    "      <td>0.99</td>\n",
    "      <td>0.99</td>\n",
    "    </tr>\n",
    "  </tbody>\n",
    "</table>\n"
   ]
  },
  {
   "cell_type": "markdown",
   "metadata": {},
   "source": [
    "LSTM:\n",
    "LSTM yüksek test doğruluğu gösteriyor (98.61%) ve her iki sınıf için de oldukça iyi precision, recall ve f1-score değerleri sağlıyor. Ancak, LSTM'nin karmaşık bir model olması, işlem gücü ve zaman açısından daha fazla kaynak gerektirebilir.\n",
    "\n",
    "Naive Bayes:\n",
    "Naive Bayes, test doğruluğu açısından diğer modellerin gerisinde kalıyor (93.74%). Precision, recall ve f1-score değerleri de LSTM ve diğer modellerin gerisinde. Bu model, daha basit olmasına rağmen genellikle daha düşük performans sunuyor.\n",
    "\n",
    "SVM:\n",
    "SVM, mükemmel sonuçlar elde etti (99.55% test doğruluğu). Ancak, yüksek doğruluk ve f1-score değerleri overfitting (aşırı uyum) riski taşıyor olabilir. Eğitim seti üzerinde çok iyi performans gösterse de test seti üzerinde dikkatli bir değerlendirme gerekebilir. Modelin doğruluğuna dikkat edilmesi önemlidir.\n",
    "\n",
    "Logistic Regression:\n",
    "Logistic Regression, LSTM ile benzer sonuçlar veriyor (98.94% test doğruluğu). Hem eğitim hem de test verisi üzerinde oldukça dengeli sonuçlar sağlıyor, bu da onu daha sağlam bir seçenek yapıyor.\n",
    "<hr>\n",
    "Sonuç:\n",
    "SVM en yüksek doğruluğu sağlıyor, ancak overfitting riski nedeniyle dikkatli kullanılmalı.\n",
    "LSTM da yüksek performans gösteriyor, ancak daha karmaşık bir model olması nedeniyle işlem süresi daha uzun olabilir.\n",
    "Logistic Regression oldukça dengeli ve hızlı bir model olup, iyi bir test doğruluğu sunuyor.\n",
    "Naive Bayes düşük performansı nedeniyle diğer modellere kıyasla daha az tercih edilebilir."
   ]
  }
 ],
 "metadata": {
  "kernelspec": {
   "display_name": "LastOne",
   "language": "python",
   "name": "python3"
  },
  "language_info": {
   "codemirror_mode": {
    "name": "ipython",
    "version": 3
   },
   "file_extension": ".py",
   "mimetype": "text/x-python",
   "name": "python",
   "nbconvert_exporter": "python",
   "pygments_lexer": "ipython3",
   "version": "3.10.13"
  }
 },
 "nbformat": 4,
 "nbformat_minor": 2
}
